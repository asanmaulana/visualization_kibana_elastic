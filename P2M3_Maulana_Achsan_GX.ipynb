{
 "cells": [
  {
   "cell_type": "code",
   "execution_count": 1,
   "metadata": {},
   "outputs": [],
   "source": [
    "# Import libraries\n",
    "import pandas as pd\n",
    "import great_expectations as gx"
   ]
  },
  {
   "cell_type": "markdown",
   "metadata": {},
   "source": [
    "Importing Library Telah Selesai. Di Notebook ini akan kita gunakan untuk great expectations sebagai validasi data menggunakan library python."
   ]
  },
  {
   "cell_type": "code",
   "execution_count": 2,
   "metadata": {},
   "outputs": [
    {
     "data": {
      "text/html": [
       "<div>\n",
       "<style scoped>\n",
       "    .dataframe tbody tr th:only-of-type {\n",
       "        vertical-align: middle;\n",
       "    }\n",
       "\n",
       "    .dataframe tbody tr th {\n",
       "        vertical-align: top;\n",
       "    }\n",
       "\n",
       "    .dataframe thead th {\n",
       "        text-align: right;\n",
       "    }\n",
       "</style>\n",
       "<table border=\"1\" class=\"dataframe\">\n",
       "  <thead>\n",
       "    <tr style=\"text-align: right;\">\n",
       "      <th></th>\n",
       "      <th>order_id</th>\n",
       "      <th>date</th>\n",
       "      <th>day</th>\n",
       "      <th>month</th>\n",
       "      <th>year</th>\n",
       "      <th>customer_age</th>\n",
       "      <th>age_group</th>\n",
       "      <th>customer_gender</th>\n",
       "      <th>country</th>\n",
       "      <th>state</th>\n",
       "      <th>product_category</th>\n",
       "      <th>sub_category</th>\n",
       "      <th>product</th>\n",
       "      <th>order_quantity</th>\n",
       "      <th>unit_cost</th>\n",
       "      <th>unit_price</th>\n",
       "      <th>profit</th>\n",
       "      <th>cost</th>\n",
       "      <th>revenue</th>\n",
       "    </tr>\n",
       "  </thead>\n",
       "  <tbody>\n",
       "    <tr>\n",
       "      <th>0</th>\n",
       "      <td>1CanBri</td>\n",
       "      <td>2013-11-26</td>\n",
       "      <td>26</td>\n",
       "      <td>November</td>\n",
       "      <td>2013</td>\n",
       "      <td>19</td>\n",
       "      <td>Youth (&lt;25)</td>\n",
       "      <td>M</td>\n",
       "      <td>Canada</td>\n",
       "      <td>British Columbia</td>\n",
       "      <td>Accessories</td>\n",
       "      <td>Bike Racks</td>\n",
       "      <td>Hitch Rack - 4-Bike</td>\n",
       "      <td>8</td>\n",
       "      <td>45.0</td>\n",
       "      <td>120.0</td>\n",
       "      <td>590.0</td>\n",
       "      <td>360.0</td>\n",
       "      <td>950.0</td>\n",
       "    </tr>\n",
       "    <tr>\n",
       "      <th>1</th>\n",
       "      <td>2CanBri</td>\n",
       "      <td>2015-11-26</td>\n",
       "      <td>26</td>\n",
       "      <td>November</td>\n",
       "      <td>2015</td>\n",
       "      <td>19</td>\n",
       "      <td>Youth (&lt;25)</td>\n",
       "      <td>M</td>\n",
       "      <td>Canada</td>\n",
       "      <td>British Columbia</td>\n",
       "      <td>Accessories</td>\n",
       "      <td>Bike Racks</td>\n",
       "      <td>Hitch Rack - 4-Bike</td>\n",
       "      <td>8</td>\n",
       "      <td>45.0</td>\n",
       "      <td>120.0</td>\n",
       "      <td>590.0</td>\n",
       "      <td>360.0</td>\n",
       "      <td>950.0</td>\n",
       "    </tr>\n",
       "    <tr>\n",
       "      <th>2</th>\n",
       "      <td>3AusNew</td>\n",
       "      <td>2014-03-23</td>\n",
       "      <td>23</td>\n",
       "      <td>March</td>\n",
       "      <td>2014</td>\n",
       "      <td>49</td>\n",
       "      <td>Adults (35-64)</td>\n",
       "      <td>M</td>\n",
       "      <td>Australia</td>\n",
       "      <td>New South Wales</td>\n",
       "      <td>Accessories</td>\n",
       "      <td>Bike Racks</td>\n",
       "      <td>Hitch Rack - 4-Bike</td>\n",
       "      <td>23</td>\n",
       "      <td>45.0</td>\n",
       "      <td>120.0</td>\n",
       "      <td>1366.0</td>\n",
       "      <td>1035.0</td>\n",
       "      <td>2401.0</td>\n",
       "    </tr>\n",
       "    <tr>\n",
       "      <th>3</th>\n",
       "      <td>4AusNew</td>\n",
       "      <td>2016-03-23</td>\n",
       "      <td>23</td>\n",
       "      <td>March</td>\n",
       "      <td>2016</td>\n",
       "      <td>49</td>\n",
       "      <td>Adults (35-64)</td>\n",
       "      <td>M</td>\n",
       "      <td>Australia</td>\n",
       "      <td>New South Wales</td>\n",
       "      <td>Accessories</td>\n",
       "      <td>Bike Racks</td>\n",
       "      <td>Hitch Rack - 4-Bike</td>\n",
       "      <td>20</td>\n",
       "      <td>45.0</td>\n",
       "      <td>120.0</td>\n",
       "      <td>1188.0</td>\n",
       "      <td>900.0</td>\n",
       "      <td>2088.0</td>\n",
       "    </tr>\n",
       "    <tr>\n",
       "      <th>4</th>\n",
       "      <td>5AusNew</td>\n",
       "      <td>2014-05-15</td>\n",
       "      <td>15</td>\n",
       "      <td>May</td>\n",
       "      <td>2014</td>\n",
       "      <td>47</td>\n",
       "      <td>Adults (35-64)</td>\n",
       "      <td>F</td>\n",
       "      <td>Australia</td>\n",
       "      <td>New South Wales</td>\n",
       "      <td>Accessories</td>\n",
       "      <td>Bike Racks</td>\n",
       "      <td>Hitch Rack - 4-Bike</td>\n",
       "      <td>4</td>\n",
       "      <td>45.0</td>\n",
       "      <td>120.0</td>\n",
       "      <td>238.0</td>\n",
       "      <td>180.0</td>\n",
       "      <td>418.0</td>\n",
       "    </tr>\n",
       "  </tbody>\n",
       "</table>\n",
       "</div>"
      ],
      "text/plain": [
       "  order_id        date  day     month  year  customer_age       age_group  \\\n",
       "0  1CanBri  2013-11-26   26  November  2013            19     Youth (<25)   \n",
       "1  2CanBri  2015-11-26   26  November  2015            19     Youth (<25)   \n",
       "2  3AusNew  2014-03-23   23     March  2014            49  Adults (35-64)   \n",
       "3  4AusNew  2016-03-23   23     March  2016            49  Adults (35-64)   \n",
       "4  5AusNew  2014-05-15   15       May  2014            47  Adults (35-64)   \n",
       "\n",
       "  customer_gender    country             state product_category sub_category  \\\n",
       "0               M     Canada  British Columbia      Accessories   Bike Racks   \n",
       "1               M     Canada  British Columbia      Accessories   Bike Racks   \n",
       "2               M  Australia   New South Wales      Accessories   Bike Racks   \n",
       "3               M  Australia   New South Wales      Accessories   Bike Racks   \n",
       "4               F  Australia   New South Wales      Accessories   Bike Racks   \n",
       "\n",
       "               product  order_quantity  unit_cost  unit_price  profit    cost  \\\n",
       "0  Hitch Rack - 4-Bike               8       45.0       120.0   590.0   360.0   \n",
       "1  Hitch Rack - 4-Bike               8       45.0       120.0   590.0   360.0   \n",
       "2  Hitch Rack - 4-Bike              23       45.0       120.0  1366.0  1035.0   \n",
       "3  Hitch Rack - 4-Bike              20       45.0       120.0  1188.0   900.0   \n",
       "4  Hitch Rack - 4-Bike               4       45.0       120.0   238.0   180.0   \n",
       "\n",
       "   revenue  \n",
       "0    950.0  \n",
       "1    950.0  \n",
       "2   2401.0  \n",
       "3   2088.0  \n",
       "4    418.0  "
      ]
     },
     "execution_count": 2,
     "metadata": {},
     "output_type": "execute_result"
    }
   ],
   "source": [
    "# Load datasetnya\n",
    "df = pd.read_csv('P2M3_maulana_achsan_data_clean.csv')\n",
    "\n",
    "#cek\n",
    "df.head(5)"
   ]
  },
  {
   "cell_type": "markdown",
   "metadata": {},
   "source": [
    "Cek 5 data awal sudah selesai"
   ]
  },
  {
   "cell_type": "code",
   "execution_count": 3,
   "metadata": {},
   "outputs": [],
   "source": [
    "# Convert ke Great Expectation dataframe\n",
    "df_ge = gx.from_pandas(df)"
   ]
  },
  {
   "cell_type": "markdown",
   "metadata": {},
   "source": [
    "Importing sudah selesai "
   ]
  },
  {
   "cell_type": "markdown",
   "metadata": {},
   "source": [
    "# 1.Expectations To Be Unique"
   ]
  },
  {
   "cell_type": "code",
   "execution_count": 4,
   "metadata": {},
   "outputs": [
    {
     "data": {
      "text/plain": [
       "{\n",
       "  \"result\": {\n",
       "    \"element_count\": 113036,\n",
       "    \"missing_count\": 0,\n",
       "    \"missing_percent\": 0.0,\n",
       "    \"unexpected_count\": 0,\n",
       "    \"unexpected_percent\": 0.0,\n",
       "    \"unexpected_percent_total\": 0.0,\n",
       "    \"unexpected_percent_nonmissing\": 0.0,\n",
       "    \"partial_unexpected_list\": []\n",
       "  },\n",
       "  \"exception_info\": {\n",
       "    \"raised_exception\": false,\n",
       "    \"exception_traceback\": null,\n",
       "    \"exception_message\": null\n",
       "  },\n",
       "  \"meta\": {},\n",
       "  \"success\": true\n",
       "}"
      ]
     },
     "execution_count": 4,
     "metadata": {},
     "output_type": "execute_result"
    }
   ],
   "source": [
    "# Ekspektasi Untuk Unik\n",
    "hasil_unique = df_ge.expect_column_values_to_be_unique(\"order_id\")\n",
    "hasil_unique\n",
    "\n"
   ]
  },
  {
   "cell_type": "markdown",
   "metadata": {},
   "source": [
    "Expectation to be unique merupakan ekspektasi yang harus diterapkan pada dataset ini terutama pada kolom order id. Pada kolom ini harusnya semua angka yang dihasilkan tidak boleh sama dan juga mungkin ada kesamaan dalam kode. Karena disitu saya menggunakan negara dan state sebagai string pembeda satu sama lain. Namun kepastian tidak selalu sama dipastikan oleh angka awalnya yang merupakan titik identitas setiap baris atau transaksi. "
   ]
  },
  {
   "cell_type": "markdown",
   "metadata": {},
   "source": [
    "# 2. To be Between min Value and Max_Value"
   ]
  },
  {
   "cell_type": "code",
   "execution_count": 5,
   "metadata": {},
   "outputs": [
    {
     "data": {
      "text/plain": [
       "{\n",
       "  \"result\": {\n",
       "    \"element_count\": 113036,\n",
       "    \"missing_count\": 0,\n",
       "    \"missing_percent\": 0.0,\n",
       "    \"unexpected_count\": 0,\n",
       "    \"unexpected_percent\": 0.0,\n",
       "    \"unexpected_percent_total\": 0.0,\n",
       "    \"unexpected_percent_nonmissing\": 0.0,\n",
       "    \"partial_unexpected_list\": []\n",
       "  },\n",
       "  \"exception_info\": {\n",
       "    \"raised_exception\": false,\n",
       "    \"exception_traceback\": null,\n",
       "    \"exception_message\": null\n",
       "  },\n",
       "  \"meta\": {},\n",
       "  \"success\": true\n",
       "}"
      ]
     },
     "execution_count": 5,
     "metadata": {},
     "output_type": "execute_result"
    }
   ],
   "source": [
    "# Expectation to be between min_value and max_value\n",
    "\n",
    "'''Ini kita lihat disini value 5 tahun dan maksimal umur 90 tahun karena kita mengasumsikan untuk angka harapan hidup \n",
    "orang luar negeri biasanya sampai 90 tahun. '''\n",
    "hasil_between = df_ge.expect_column_values_to_be_between(\"customer_age\", min_value=5, max_value=90) \n",
    "hasil_between\n",
    "\n"
   ]
  },
  {
   "cell_type": "markdown",
   "metadata": {},
   "source": [
    "Ekspektasi untuk nilai harus berada di minimal value dan maksimal value. Ekspektasi ini dilakukan untuk mengetes apakah customer dari bikeshop kami berada di range usia tertentu. Pada negara maju angka harapan hidup itu cenderung lebih tinggi. Maka dari itu kita mencoba membuat range untuk batas atas di angka 90 tahun. Berdasarkan pengalaman saya juga yang pernah tinggal di jerman, terdapat beberapa pengendara sepeda itu usia sudah melebihi 80 tahun jadi disini saya asumsikan usia dari pembeli maksimal harus di angka 90 tahun. Karena sangat jarang harusnya pembeli sepeda di usia 90 tahun ke atas. Untuk batas bawah saya set 5 tahun, karena jika mereka membeli sepeda untuk balita mungkin pembeli akan membeli di baby shop atau kid shop mungkin untuk pembelian sepeda balita atau batita. "
   ]
  },
  {
   "cell_type": "markdown",
   "metadata": {},
   "source": [
    "# 3. To be in Set"
   ]
  },
  {
   "cell_type": "code",
   "execution_count": 37,
   "metadata": {},
   "outputs": [
    {
     "data": {
      "text/plain": [
       "{\n",
       "  \"result\": {\n",
       "    \"element_count\": 113036,\n",
       "    \"missing_count\": 0,\n",
       "    \"missing_percent\": 0.0,\n",
       "    \"unexpected_count\": 0,\n",
       "    \"unexpected_percent\": 0.0,\n",
       "    \"unexpected_percent_total\": 0.0,\n",
       "    \"unexpected_percent_nonmissing\": 0.0,\n",
       "    \"partial_unexpected_list\": []\n",
       "  },\n",
       "  \"exception_info\": {\n",
       "    \"raised_exception\": false,\n",
       "    \"exception_traceback\": null,\n",
       "    \"exception_message\": null\n",
       "  },\n",
       "  \"meta\": {},\n",
       "  \"success\": true\n",
       "}"
      ]
     },
     "execution_count": 37,
     "metadata": {},
     "output_type": "execute_result"
    }
   ],
   "source": [
    "# Expectation to be in set\n",
    "result_in_set = df_ge.expect_column_values_to_be_in_set(\"customer_gender\", [\"M\", \"F\"])\n",
    "result_in_set\n"
   ]
  },
  {
   "cell_type": "markdown",
   "metadata": {},
   "source": [
    "Kita harus memastikan bahwa kolom gender hanya mengandung dua variabel, yaitu M untuk pria dan F untuk wanita. Ini penting agar konsistensi data terjaga dan memudahkan analisis. Dalam konteks dataset ini, tidak ada variabel lain yang digunakan untuk mengidentifikasi gender selain M dan F"
   ]
  },
  {
   "cell_type": "markdown",
   "metadata": {},
   "source": [
    "# 4. To be in type list\n"
   ]
  },
  {
   "cell_type": "code",
   "execution_count": 7,
   "metadata": {},
   "outputs": [
    {
     "data": {
      "text/plain": [
       "{\n",
       "  \"result\": {\n",
       "    \"observed_value\": \"int64\"\n",
       "  },\n",
       "  \"exception_info\": {\n",
       "    \"raised_exception\": false,\n",
       "    \"exception_traceback\": null,\n",
       "    \"exception_message\": null\n",
       "  },\n",
       "  \"meta\": {},\n",
       "  \"success\": true\n",
       "}"
      ]
     },
     "execution_count": 7,
     "metadata": {},
     "output_type": "execute_result"
    }
   ],
   "source": [
    "# Expectation to be in type list\n",
    "result_type = df_ge.expect_column_values_to_be_of_type(\"order_quantity\", \"int64\")\n",
    "result_type\n",
    "\n"
   ]
  },
  {
   "cell_type": "markdown",
   "metadata": {},
   "source": [
    "Kolom to be in type list ini sangat cocok untuk order quantity. Karena kita tidak mungkin order di toko sepeda kami dengan (floating number) misalkan beli sepeda setengah. "
   ]
  },
  {
   "cell_type": "markdown",
   "metadata": {},
   "source": [
    "# 5. To be not null"
   ]
  },
  {
   "cell_type": "code",
   "execution_count": 8,
   "metadata": {},
   "outputs": [
    {
     "data": {
      "text/plain": [
       "{\n",
       "  \"result\": {\n",
       "    \"element_count\": 113036,\n",
       "    \"unexpected_count\": 0,\n",
       "    \"unexpected_percent\": 0.0,\n",
       "    \"unexpected_percent_total\": 0.0,\n",
       "    \"partial_unexpected_list\": []\n",
       "  },\n",
       "  \"exception_info\": {\n",
       "    \"raised_exception\": false,\n",
       "    \"exception_traceback\": null,\n",
       "    \"exception_message\": null\n",
       "  },\n",
       "  \"meta\": {},\n",
       "  \"success\": true\n",
       "}"
      ]
     },
     "execution_count": 8,
     "metadata": {},
     "output_type": "execute_result"
    }
   ],
   "source": [
    "# Expect Price tidak mungkin 0\n",
    "hasil_gx = df_ge.expect_column_values_to_not_be_null(column='unit_price')\n",
    "hasil_gx"
   ]
  },
  {
   "cell_type": "markdown",
   "metadata": {},
   "source": [
    "Kolom unit_price tidak boleh bernilai null karena ini merupakan harga jual setiap item. Sangat tidak lazim jika harga ini kosong atau tidak diisi. Dalam konteks toko sepeda, harga jual harus selalu ada, karena tidak mungkin ada barang yang dijual tanpa harga."
   ]
  },
  {
   "cell_type": "markdown",
   "metadata": {},
   "source": [
    "# 6. To be match to the form"
   ]
  },
  {
   "cell_type": "code",
   "execution_count": 11,
   "metadata": {},
   "outputs": [
    {
     "data": {
      "text/plain": [
       "{\n",
       "  \"result\": {\n",
       "    \"element_count\": 113036,\n",
       "    \"missing_count\": 0,\n",
       "    \"missing_percent\": 0.0,\n",
       "    \"unexpected_count\": 0,\n",
       "    \"unexpected_percent\": 0.0,\n",
       "    \"unexpected_percent_total\": 0.0,\n",
       "    \"unexpected_percent_nonmissing\": 0.0,\n",
       "    \"partial_unexpected_list\": []\n",
       "  },\n",
       "  \"exception_info\": {\n",
       "    \"raised_exception\": false,\n",
       "    \"exception_traceback\": null,\n",
       "    \"exception_message\": null\n",
       "  },\n",
       "  \"meta\": {},\n",
       "  \"success\": true\n",
       "}"
      ]
     },
     "execution_count": 11,
     "metadata": {},
     "output_type": "execute_result"
    }
   ],
   "source": [
    "# Expectation to match regex\n",
    "result_regex = df_ge.expect_column_values_to_match_regex('order_id', r'^\\d+[A-Za-z]+$')\n",
    "result_regex\n",
    "\n"
   ]
  },
  {
   "cell_type": "markdown",
   "metadata": {},
   "source": [
    "Ekspektasi ini digunakan untuk memastikan bahwa kolom order_id mengikuti pola tertentu, yaitu diawali dengan angka dan diikuti oleh huruf. Pola r'^\\d+[A-Za-z]+$' memeriksa apakah setiap nilai di kolom dimulai dengan satu atau lebih angka, kemudian diikuti oleh satu atau lebih huruf (besar atau kecil). Ini memastikan konsistensi format order_id, yang penting untuk pengelompokan atau identifikasi berdasarkan kode alfanumerik."
   ]
  },
  {
   "cell_type": "markdown",
   "metadata": {},
   "source": [
    "# 7. Sum to be between some number"
   ]
  },
  {
   "cell_type": "code",
   "execution_count": 38,
   "metadata": {},
   "outputs": [
    {
     "data": {
      "text/plain": [
       "{\n",
       "  \"result\": {\n",
       "    \"observed_value\": 85271008.0,\n",
       "    \"element_count\": 113036,\n",
       "    \"missing_count\": null,\n",
       "    \"missing_percent\": null\n",
       "  },\n",
       "  \"exception_info\": {\n",
       "    \"raised_exception\": false,\n",
       "    \"exception_traceback\": null,\n",
       "    \"exception_message\": null\n",
       "  },\n",
       "  \"meta\": {},\n",
       "  \"success\": true\n",
       "}"
      ]
     },
     "execution_count": 38,
     "metadata": {},
     "output_type": "execute_result"
    }
   ],
   "source": [
    "result_regex = df_ge.expect_column_sum_to_be_between('revenue', min_value=50000000, max_value=100000000)\n",
    "result_regex"
   ]
  },
  {
   "cell_type": "markdown",
   "metadata": {},
   "source": [
    "Ini untuk memastikan bahwa total revenue selama beberapa tahun terakhir berada di antara 50 juta hingga 100 juta dolar. Basis bisnis kami di negara-negara maju membuat pendapatan dalam kisaran ratusan atau puluhan ribu dolar sangat tidak masuk akal, terutama mengingat banyaknya toko yang kami kelola. Oleh karena itu, ekspektasi ini membantu memastikan bahwa pendapatan berada dalam rentang yang wajar untuk skala bisnis kami."
   ]
  },
  {
   "cell_type": "markdown",
   "metadata": {},
   "source": [
    "# 8. Median between certain range number "
   ]
  },
  {
   "cell_type": "code",
   "execution_count": 26,
   "metadata": {},
   "outputs": [
    {
     "data": {
      "text/plain": [
       "{\n",
       "  \"result\": {\n",
       "    \"observed_value\": 101.0,\n",
       "    \"element_count\": 113036,\n",
       "    \"missing_count\": null,\n",
       "    \"missing_percent\": null\n",
       "  },\n",
       "  \"exception_info\": {\n",
       "    \"raised_exception\": false,\n",
       "    \"exception_traceback\": null,\n",
       "    \"exception_message\": null\n",
       "  },\n",
       "  \"meta\": {},\n",
       "  \"success\": true\n",
       "}"
      ]
     },
     "execution_count": 26,
     "metadata": {},
     "output_type": "execute_result"
    }
   ],
   "source": [
    "median_validation = df_ge.expect_column_median_to_be_between('profit', min_value=100, max_value=200)\n",
    "median_validation"
   ]
  },
  {
   "cell_type": "markdown",
   "metadata": {},
   "source": [
    "Median validation ini digunakan untuk memastikan bahwa memang median profit kita di angka segini. Ini untuk mengetahui berapa titik tengah dari profit. Biasanya untuk tahu dari semua profit per order penjualan itu kita untung di angka berapa. Penggunaan median lebih tepat karena bisa saja kolom profit itu memiliki persebaran tidak normal, bisa saja ada orang yang beli paket sepeda sehingga profit yang kita dapatkan lebih banyak, dan akhirnya menarik mean ke atas. Median disini lebih merepresentasikan untuk cek garis besar keuntungan tiap order kita di angka berapa.  "
   ]
  },
  {
   "cell_type": "markdown",
   "metadata": {},
   "source": [
    "# 9. Mean have to be in between"
   ]
  },
  {
   "cell_type": "code",
   "execution_count": 33,
   "metadata": {},
   "outputs": [
    {
     "data": {
      "text/plain": [
       "{\n",
       "  \"result\": {\n",
       "    \"observed_value\": 11.901659648253654,\n",
       "    \"element_count\": 113036,\n",
       "    \"missing_count\": null,\n",
       "    \"missing_percent\": null\n",
       "  },\n",
       "  \"exception_info\": {\n",
       "    \"raised_exception\": false,\n",
       "    \"exception_traceback\": null,\n",
       "    \"exception_message\": null\n",
       "  },\n",
       "  \"meta\": {},\n",
       "  \"success\": true\n",
       "}"
      ]
     },
     "execution_count": 33,
     "metadata": {},
     "output_type": "execute_result"
    }
   ],
   "source": [
    "rata2=df_ge.expect_column_mean_to_be_between('order_quantity', min_value=5, max_value=15)\n",
    "rata2"
   ]
  },
  {
   "cell_type": "markdown",
   "metadata": {},
   "source": [
    "Mean digunakan untuk memastikan bahwa rata-rata kuantitas order berada di antara 5 hingga 15 unit. Ini penting untuk memeriksa apakah ada anomali, seperti order dalam jumlah besar yang tidak wajar (misalnya 1000 unit). Hal ini bisa terjadi karena kesalahan input atau kondisi khusus lainnya. Oleh karena itu, rata-rata kuantitas order harus tetap berada dalam kisaran yang masuk akal untuk setiap pembelian customer."
   ]
  }
 ],
 "metadata": {
  "kernelspec": {
   "display_name": "myvirt",
   "language": "python",
   "name": "python3"
  },
  "language_info": {
   "codemirror_mode": {
    "name": "ipython",
    "version": 3
   },
   "file_extension": ".py",
   "mimetype": "text/x-python",
   "name": "python",
   "nbconvert_exporter": "python",
   "pygments_lexer": "ipython3",
   "version": "3.9.19"
  }
 },
 "nbformat": 4,
 "nbformat_minor": 2
}
